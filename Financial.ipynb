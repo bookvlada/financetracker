{
 "cells": [
  {
   "cell_type": "code",
   "execution_count": null,
   "id": "991d1a41-cd04-4d16-aac5-4f5b7fe37310",
   "metadata": {},
   "outputs": [],
   "source": [
    "import pandas as pd\n",
    "import matplotlib.pyplot as plt\n",
    "import seaborn as sns\n",
    "from sklearn.model_selection import train_test_split\n",
    "from sklearn.linear_model import LinearRegression"
   ]
  },
  {
   "cell_type": "code",
   "execution_count": null,
   "id": "55258e59-f67f-494a-b706-3b86415e848f",
   "metadata": {},
   "outputs": [],
   "source": [
    "data = pd.read_csv('transactions.csv', sep=';')\n",
    "# Preview the data\n",
    "print(data.head())"
   ]
  },
  {
   "cell_type": "code",
   "execution_count": null,
   "id": "79d52e0e-8bb1-4644-b817-536aef521e42",
   "metadata": {},
   "outputs": [],
   "source": [
    "print(data.columns)"
   ]
  },
  {
   "cell_type": "code",
   "execution_count": null,
   "id": "7b53e0f2-962d-4c90-a200-ebfa60aca672",
   "metadata": {},
   "outputs": [],
   "source": [
    "# Clean the data\n",
    "data['Date'] = pd.to_datetime(data['date'])\n",
    "data = data.dropna()  # Drop rows with missing values"
   ]
  },
  {
   "cell_type": "code",
   "execution_count": null,
   "id": "12c5b13b-df1d-4a7e-9f6c-4e7bbedf7614",
   "metadata": {},
   "outputs": [],
   "source": [
    "category_totals=data.groupby('category')['amount'].sum()\n",
    "category_totals.plot(kind='bar',title='spending by category')\n",
    "plt.show(data.all)"
   ]
  },
  {
   "cell_type": "code",
   "execution_count": null,
   "id": "7683e255-ed9d-4178-b7e6-c65063199296",
   "metadata": {},
   "outputs": [],
   "source": [
    "data['date'] = pd.to_datetime(data['date'], errors='coerce')\n",
    "print(data['date'].dtype)"
   ]
  },
  {
   "cell_type": "code",
   "execution_count": null,
   "id": "7d71574f-33a9-41f0-91e3-35dd1b06a512",
   "metadata": {},
   "outputs": [],
   "source": [
    "data['month']=data['date'].dt.to_period('M')\n",
    "monthly_totals=data.groupby('category')['amount'].sum\n",
    "monthly_totals().plot(kind='line',title='monthly speed')\n",
    "plt.show(data.all)"
   ]
  },
  {
   "cell_type": "code",
   "execution_count": null,
   "id": "04f6fd34-3ed5-442f-8e9e-d19befa78a6b",
   "metadata": {},
   "outputs": [],
   "source": [
    "data['month_number']=data['date'].dt.month\n",
    "X=data[['month_number']]\n",
    "y=data['amount']\n",
    "X_train,X_test,y_train,y_test=train_test_split(X,y,test_size=0.2,random_state=42)"
   ]
  },
  {
   "cell_type": "code",
   "execution_count": null,
   "id": "54ce793f-fd33-42d3-8dbf-c6b417f92407",
   "metadata": {},
   "outputs": [],
   "source": [
    "model=LinearRegression()\n",
    "model.fit(X_train,y_train)"
   ]
  },
  {
   "cell_type": "code",
   "execution_count": null,
   "id": "f51d4fae-b15d-468c-ba41-45e0e05017ed",
   "metadata": {},
   "outputs": [],
   "source": [
    "future_months=pd.DataFrame({'month_number':[11,12]})\n",
    "predictions=model.predict(future_months)"
   ]
  },
  {
   "cell_type": "code",
   "execution_count": null,
   "id": "ce13ff55-013c-479c-9935-25c3117f3f98",
   "metadata": {},
   "outputs": [],
   "source": [
    "print(\"Predicted expenses for November and December:\", predictions)"
   ]
  },
  {
   "cell_type": "code",
   "execution_count": null,
   "id": "6a10187c-0d68-480c-8a5e-12af640f02c5",
   "metadata": {},
   "outputs": [],
   "source": []
  }
 ],
 "metadata": {
  "kernelspec": {
   "display_name": "Python 3 (ipykernel)",
   "language": "python",
   "name": "python3"
  },
  "language_info": {
   "codemirror_mode": {
    "name": "ipython",
    "version": 3
   },
   "file_extension": ".py",
   "mimetype": "text/x-python",
   "name": "python",
   "nbconvert_exporter": "python",
   "pygments_lexer": "ipython3",
   "version": "3.13.0"
  }
 },
 "nbformat": 4,
 "nbformat_minor": 5
}
